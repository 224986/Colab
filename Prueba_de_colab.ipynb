{
  "nbformat": 4,
  "nbformat_minor": 0,
  "metadata": {
    "colab": {
      "provenance": [],
      "authorship_tag": "ABX9TyNM1qiJaDBdAMGFiRgXiQeb",
      "include_colab_link": true
    },
    "kernelspec": {
      "name": "python3",
      "display_name": "Python 3"
    },
    "language_info": {
      "name": "python"
    }
  },
  "cells": [
    {
      "cell_type": "markdown",
      "metadata": {
        "id": "view-in-github",
        "colab_type": "text"
      },
      "source": [
        "<a href=\"https://colab.research.google.com/github/224986/Colab/blob/main/Prueba_de_colab.ipynb\" target=\"_parent\"><img src=\"https://colab.research.google.com/assets/colab-badge.svg\" alt=\"Open In Colab\"/></a>"
      ]
    },
    {
      "cell_type": "code",
      "execution_count": null,
      "metadata": {
        "id": "_3V1CAuZmkVJ"
      },
      "outputs": [],
      "source": [
        "#prueba de colab\n",
        "print(\"helow world\")\n",
        "\n",
        "#pueba de comiit \n",
        "print(\"verificando github\")"
      ]
    },
    {
      "cell_type": "code",
      "source": [
        "\n",
        "#pueba de comiit \n",
        "print(\"verificando github\")"
      ],
      "metadata": {
        "id": "jlPvEGwvm7An"
      },
      "execution_count": null,
      "outputs": []
    }
  ]
}