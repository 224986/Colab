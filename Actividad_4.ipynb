{
  "nbformat": 4,
  "nbformat_minor": 0,
  "metadata": {
    "colab": {
      "provenance": [],
      "authorship_tag": "ABX9TyPp7R+21y3dL9sAORG9k10Z",
      "include_colab_link": true
    },
    "kernelspec": {
      "name": "python3",
      "display_name": "Python 3"
    },
    "language_info": {
      "name": "python"
    }
  },
  "cells": [
    {
      "cell_type": "markdown",
      "metadata": {
        "id": "view-in-github",
        "colab_type": "text"
      },
      "source": [
        "<a href=\"https://colab.research.google.com/github/224986/Colab/blob/main/Actividad_4.ipynb\" target=\"_parent\"><img src=\"https://colab.research.google.com/assets/colab-badge.svg\" alt=\"Open In Colab\"/></a>"
      ]
    },
    {
      "cell_type": "code",
      "execution_count": null,
      "metadata": {
        "colab": {
          "base_uri": "https://localhost:8080/"
        },
        "id": "TUzNqPEZdEDF",
        "outputId": "b9e82518-f929-4965-a310-113cd2dfac2e"
      },
      "outputs": [
        {
          "output_type": "stream",
          "name": "stderr",
          "text": [
            "<ipython-input-1-3178bb33601c>:10: DeprecationWarning: `np.float` is a deprecated alias for the builtin `float`. To silence this warning, use `float` by itself. Doing this will not modify any behavior and is safe. If you specifically wanted the numpy scalar type, use `np.float64` here.\n",
            "Deprecated in NumPy 1.20; for more details and guidance: https://numpy.org/devdocs/release/1.20.0-notes.html#deprecations\n",
            "  numeros = np.array([]).astype(np.float) #se delcara como array de numpy\n"
          ]
        },
        {
          "output_type": "stream",
          "name": "stdout",
          "text": [
            "Esribe los numeros a los que quieres sacar promedio, cuando termines escribe Termine , el uso de otra palabra o caracter no sera valido y el programa dejara de correr\n",
            "Ingresa un número: 4\n",
            "[4.]\n",
            "Ingresa un número: 5\n",
            "[4. 5.]\n",
            "Ingresa un número: 6\n",
            "[4. 5. 6.]\n",
            "Ingresa un número: 8\n",
            "[4. 5. 6. 8.]\n",
            "Ingresa un número: 3\n",
            "[4. 5. 6. 8. 3.]\n",
            "Ingresa un número: 9\n",
            "[4. 5. 6. 8. 3. 9.]\n",
            "Ingresa un número: 3.4\n",
            "[4.  5.  6.  8.  3.  9.  3.4]\n",
            "Ingresa un número: 32.54\n",
            "[ 4.    5.    6.    8.    3.    9.    3.4  32.54]\n",
            "Ingresa un número: Termine\n",
            "Promedio: 8.8675\n",
            "El arreglo es:\n",
            "[ 4.    5.    6.    8.    3.    9.    3.4  32.54]\n"
          ]
        }
      ],
      "source": [
        "#Leonel Jose Evans Gononzalez \n",
        "#2249868\n",
        "#Ciencia de datos Primavera 2023\n",
        "#Actividad 5\n",
        "#Prof: Dr. BUSTIO MARTINEZ, LAZARO\n",
        "#El objetivo es sacar el promedio de n nuemros guardarlos en un arreglo de np despeus en un archio pickle y de nuevo descargalo \n",
        "import numpy as np\n",
        "import pickle as pk\n",
        "print(\"Esribe los numeros a los que quieres sacar promedio, cuando termines escribe Termine , el uso de otra palabra o caracter no sera valido y el programa dejara de correr\")\n",
        "numeros = np.array([]).astype(np.float) #se delcara como array de numpy\n",
        "while True : #while infinito\n",
        " num = input('Ingresa un número: ')\n",
        " if num == 'Termine' : break #condicion para romper el while infinito \n",
        " valor = float(num) #casteo\n",
        " numeros= np.append(numeros, valor)#forma de meter valores al arreglo np\n",
        " print(numeros)\n",
        "promedio = np.mean(numeros) #Usamos funcion pre determiandna de numpy\n",
        "print('Promedio:', promedio) #salida 1 el promedio\n",
        "\n",
        "pk.dump(numeros, open(\"numeros.pkl\", \"wb+\"))#Se guarda del arreglo en numeros en un archivo pickle\n",
        "recuperado = pk.load(open(\"numeros.pkl\", \"rb+\" ) )# Se abre y asigna el arreglo de pickle \n",
        "print(\"El arreglo es:\")\n",
        "print(recuperado) #salida 2 el arreglo recuperado del promedio"
      ]
    },
    {
      "cell_type": "code",
      "source": [
        "print(\"quiero un comit\")"
      ],
      "metadata": {
        "id": "8naU7nUNmTuF"
      },
      "execution_count": null,
      "outputs": []
    }
  ]
}